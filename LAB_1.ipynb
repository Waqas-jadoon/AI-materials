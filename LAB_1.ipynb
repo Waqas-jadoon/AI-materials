{
  "nbformat": 4,
  "nbformat_minor": 0,
  "metadata": {
    "colab": {
      "provenance": [],
      "toc_visible": true
    },
    "kernelspec": {
      "name": "python3",
      "display_name": "Python 3"
    },
    "language_info": {
      "name": "python"
    }
  },
  "cells": [
    {
      "cell_type": "markdown",
      "source": [
        "# Lecture#1\n",
        "**python basics**\n"
      ],
      "metadata": {
        "id": "5VOyGHdP-uP_"
      }
    },
    {
      "cell_type": "code",
      "execution_count": null,
      "metadata": {
        "colab": {
          "base_uri": "https://localhost:8080/"
        },
        "id": "6XqbtbbK-nGE",
        "outputId": "58d0460a-6a88-4b67-b52c-5e4e3f7d4f9a"
      },
      "outputs": [
        {
          "output_type": "stream",
          "name": "stdout",
          "text": [
            "Waqas jadoon\n",
            "I'm expert of AI\n"
          ]
        }
      ],
      "source": [
        "print(\"Waqas jadoon\")\n",
        "print(\"I'm expert of AI\")"
      ]
    },
    {
      "cell_type": "markdown",
      "source": [
        "**Python Comments**\n",
        "\n",
        "Comments can be used to explain Python code.\n",
        "\n",
        "*   Comments can be used to make the code more readable.\n",
        "Comments can be used to prevent execution when testing code."
      ],
      "metadata": {
        "id": "KilTOuW_AL25"
      }
    },
    {
      "cell_type": "markdown",
      "source": [
        "**Creating a Comment**\n",
        "Comments starts with a #, and Python will ignore them:"
      ],
      "metadata": {
        "id": "ZnqcaCy-AnuA"
      }
    },
    {
      "cell_type": "code",
      "source": [
        "####### This is AI comment\n",
        "print (\"I'm comment of AI\")"
      ],
      "metadata": {
        "colab": {
          "base_uri": "https://localhost:8080/"
        },
        "id": "BqiSXN4N_xNB",
        "outputId": "aabbe2b4-1183-48b0-9f07-82659b6b0c16"
      },
      "execution_count": null,
      "outputs": [
        {
          "output_type": "stream",
          "name": "stdout",
          "text": [
            "I'm comment of AI\n"
          ]
        }
      ]
    },
    {
      "cell_type": "markdown",
      "source": [
        "**Variables**\n",
        "Variables are containers for storing data values.\n",
        "\n"
      ],
      "metadata": {
        "id": "m5S6i57HCseE"
      }
    },
    {
      "cell_type": "markdown",
      "source": [
        "**Creating Variables**\n",
        "\n",
        "1.   Python has no command for declaring a variable.\n",
        "\n",
        "2.   A variable is created the moment you first assign a value to it."
      ],
      "metadata": {
        "id": "xMoKZBPdDEOM"
      }
    },
    {
      "cell_type": "code",
      "source": [
        "x = \"faizan\"\n",
        "y = \" I'm a teacher of faizan\"\n",
        "z= x+y;\n",
        "print(x)\n",
        "print(y)\n",
        "print(x+y)"
      ],
      "metadata": {
        "colab": {
          "base_uri": "https://localhost:8080/"
        },
        "id": "dRJwtGlsC3Nq",
        "outputId": "2fa5f1e7-2443-478f-ec9f-474c8c46ddde"
      },
      "execution_count": null,
      "outputs": [
        {
          "output_type": "stream",
          "name": "stdout",
          "text": [
            "faizan\n",
            " I'm a teacher of faizan\n",
            "faizan I'm a teacher of faizan\n"
          ]
        }
      ]
    },
    {
      "cell_type": "markdown",
      "source": [
        "# **Casting**\n",
        "If you want to specify the data type of a variable, this can be done with casting."
      ],
      "metadata": {
        "id": "LRNC3WcPEzAR"
      }
    },
    {
      "cell_type": "code",
      "source": [
        "x = str(\"faizan\")    # x will be '3'\n",
        "y = int(3)    # y will be 3\n",
        "z = float(3)  # z will be 3.0\n",
        "print(x)\n",
        "print(y)\n",
        "print(z)"
      ],
      "metadata": {
        "colab": {
          "base_uri": "https://localhost:8080/"
        },
        "id": "s0TqHLFFD3n_",
        "outputId": "e6aea580-909f-4869-d765-929cc50ee807"
      },
      "execution_count": null,
      "outputs": [
        {
          "output_type": "stream",
          "name": "stdout",
          "text": [
            "faizan\n",
            "3\n",
            "3.0\n"
          ]
        }
      ]
    },
    {
      "cell_type": "markdown",
      "source": [
        "# **Get the Type**\n",
        "\n",
        "You can get the data type of a variable with the **type()** function."
      ],
      "metadata": {
        "id": "b6u0EfEGFYQV"
      }
    },
    {
      "cell_type": "code",
      "source": [
        "x = 5\n",
        "y = \"John\"\n",
        "z = True\n",
        "print(type(x))\n",
        "print(type(y))\n",
        "print(type(z))"
      ],
      "metadata": {
        "colab": {
          "base_uri": "https://localhost:8080/"
        },
        "id": "yNgPdafkFqxN",
        "outputId": "3969184f-2925-4654-8533-82b3f96a0643"
      },
      "execution_count": null,
      "outputs": [
        {
          "output_type": "stream",
          "name": "stdout",
          "text": [
            "<class 'int'>\n",
            "<class 'str'>\n",
            "<class 'bool'>\n"
          ]
        }
      ]
    },
    {
      "cell_type": "code",
      "source": [
        "arr = [\"f\", \"a\", \"i\", \"z\", \"a\", \"n\"]\n",
        "for x in arr:\n",
        "  print(x)"
      ],
      "metadata": {
        "colab": {
          "base_uri": "https://localhost:8080/"
        },
        "id": "eQcIwrF3JRh9",
        "outputId": "42efd963-bdc5-4bdb-d2fe-928774de2c8b"
      },
      "execution_count": null,
      "outputs": [
        {
          "output_type": "stream",
          "name": "stdout",
          "text": [
            "f\n",
            "a\n",
            "i\n",
            "z\n",
            "a\n",
            "n\n"
          ]
        }
      ]
    },
    {
      "cell_type": "code",
      "source": [
        "# prompt: write aprogram that ask user to input 5 numbers and find even and odd numbers\n",
        "\n",
        "even_numbers = []\n",
        "odd_numbers = []\n",
        "\n",
        "for i in range(5):\n",
        "  number = int(input(f\"Enter number {i+1}: \"))\n",
        "  if number % 2 == 0:\n",
        "    even_numbers.append(number)\n",
        "  else:\n",
        "    odd_numbers.append(number)\n",
        "\n",
        "print(\"Even numbers:\", even_numbers)\n",
        "print(\"Odd numbers:\", odd_numbers)\n"
      ],
      "metadata": {
        "colab": {
          "base_uri": "https://localhost:8080/"
        },
        "id": "fwng39V1JuF6",
        "outputId": "2fe6a3f1-5176-45d4-c95d-05a9abb92842"
      },
      "execution_count": null,
      "outputs": [
        {
          "output_type": "stream",
          "name": "stdout",
          "text": [
            "Enter number 1: 2\n",
            "Enter number 2: 3\n",
            "Enter number 3: 4\n",
            "Enter number 4: 5\n",
            "Enter number 5: 1\n",
            "Even numbers: [2, 4]\n",
            "Odd numbers: [3, 5, 1]\n"
          ]
        }
      ]
    },
    {
      "cell_type": "code",
      "source": [
        "# prompt: generate an array and ask user for target input and find that number in the array and its index\n",
        "\n",
        "def find_number_and_index(arr, target):\n",
        "  \"\"\"\n",
        "  Finds a target number in an array and returns its index.\n",
        "\n",
        "  Args:\n",
        "    arr: The array to search in.\n",
        "    target: The number to search for.\n",
        "\n",
        "  Returns:\n",
        "    A tuple containing the index of the target number in the array, or -1 if\n",
        "    the number is not found.\n",
        "  \"\"\"\n",
        "  for i in range(len(arr)):\n",
        "    if arr[i] == target:\n",
        "      return i\n",
        "  return -1\n",
        "\n",
        "# Generate an array (you can modify this as needed)\n",
        "arr = [1, 5, 7, 12, 15, 20]\n",
        "\n",
        "# Ask the user for the target number\n",
        "target = int(input(\"Enter the target number: \"))\n",
        "\n",
        "# Find the number and its index\n",
        "index = find_number_and_index(arr, target)\n",
        "\n",
        "if index != -1:\n",
        "  print(f\"The number {target} was found at index {index}.\")\n",
        "else:\n",
        "  print(f\"The number {target} was not found in the array.\")\n"
      ],
      "metadata": {
        "colab": {
          "base_uri": "https://localhost:8080/"
        },
        "id": "o_zS7vRgLCNm",
        "outputId": "cd81cda9-c43b-4aa3-dcce-36536c68c2bf"
      },
      "execution_count": null,
      "outputs": [
        {
          "output_type": "stream",
          "name": "stdout",
          "text": [
            "Enter the target number: 20\n",
            "The number 20 was found at index 5.\n"
          ]
        }
      ]
    },
    {
      "cell_type": "code",
      "source": [
        "# prompt: import a dataset\n",
        "\n",
        "import pandas as pd\n",
        "\n",
        "# Replace 'your_dataset.csv' with the actual path to your dataset file\n",
        "# You can either upload the file to Colab or provide a URL to a CSV file.\n",
        "data = pd.read_csv('/content/sample_data/california_housing_test.csv')\n",
        "\n",
        "# Print the first few rows of the dataset to verify it loaded correctly\n",
        "print(data.head())\n"
      ],
      "metadata": {
        "colab": {
          "base_uri": "https://localhost:8080/"
        },
        "id": "VEvKApucLYGj",
        "outputId": "9d3cda25-a4fe-4660-973c-a7bfa8dfebcf"
      },
      "execution_count": null,
      "outputs": [
        {
          "output_type": "stream",
          "name": "stdout",
          "text": [
            "   longitude  latitude  housing_median_age  total_rooms  total_bedrooms  \\\n",
            "0    -122.05     37.37                27.0       3885.0           661.0   \n",
            "1    -118.30     34.26                43.0       1510.0           310.0   \n",
            "2    -117.81     33.78                27.0       3589.0           507.0   \n",
            "3    -118.36     33.82                28.0         67.0            15.0   \n",
            "4    -119.67     36.33                19.0       1241.0           244.0   \n",
            "\n",
            "   population  households  median_income  median_house_value  \n",
            "0      1537.0       606.0         6.6085            344700.0  \n",
            "1       809.0       277.0         3.5990            176500.0  \n",
            "2      1484.0       495.0         5.7934            270500.0  \n",
            "3        49.0        11.0         6.1359            330000.0  \n",
            "4       850.0       237.0         2.9375             81700.0  \n"
          ]
        }
      ]
    },
    {
      "cell_type": "code",
      "source": [
        "# prompt: write a program for motion detection using web camp\n",
        "\n",
        "import cv2\n",
        "\n",
        "def motion_detection():\n",
        "  \"\"\"Detects motion using the webcam.\"\"\"\n",
        "\n",
        "  # Initialize the webcam\n",
        "  cap = cv2.VideoCapture(0)\n",
        "\n",
        "  # Check if the webcam is opened correctly\n",
        "  if not cap.isOpened():\n",
        "    print(\"Cannot open camera\")\n",
        "    exit()\n",
        "\n",
        "  # Read the first frame to use as the baseline\n",
        "  ret, frame1 = cap.read()\n",
        "  if not ret:\n",
        "    print(\"Cannot read frame\")\n",
        "    exit()\n",
        "\n",
        "  while True:\n",
        "    # Read a new frame\n",
        "    ret, frame2 = cap.read()\n",
        "    if not ret:\n",
        "      print(\"Cannot read frame\")\n",
        "      break\n",
        "\n",
        "    # Convert frames to grayscale\n",
        "    gray1 = cv2.cvtColor(frame1, cv2.COLOR_BGR2GRAY)\n",
        "    gray2 = cv2.cvtColor(frame2, cv2.COLOR_BGR2GRAY)\n",
        "\n",
        "    # Calculate the difference between frames\n",
        "    diff = cv2.absdiff(gray1, gray2)\n",
        "\n",
        "    # Apply thresholding to highlight significant differences\n",
        "    _, thresh = cv2.threshold(diff, 30, 255, cv2.THRESH_BINARY)\n",
        "\n",
        "    # Find contours in the thresholded image\n",
        "    contours, _ = cv2.findContours(thresh, cv2.RETR_TREE, cv2.CHAIN_APPROX_SIMPLE)\n",
        "\n",
        "    # Draw rectangles around detected contours\n",
        "    for contour in contours:\n",
        "      if cv2.contourArea(contour) > 500:  # Ignore small contours (noise)\n",
        "        (x, y, w, h) = cv2.boundingRect(contour)\n",
        "        cv2.rectangle(frame2, (x, y), (x + w, y + h), (0, 255, 0), 2)\n",
        "\n",
        "    # Display the resulting frame\n",
        "    cv2.imshow(\"Motion Detection\", frame2)\n",
        "\n",
        "    # Update the previous frame\n",
        "    frame1 = frame2\n",
        "\n",
        "    # Break the loop if the 'q' key is pressed\n",
        "    if cv2.waitKey(1) & 0xFF == ord('q'):\n",
        "      break\n",
        "\n",
        "  # Release the webcam and destroy all windows\n",
        "  cap.release()\n",
        "  cv2.destroyAllWindows()\n",
        "\n",
        "\n",
        "if __name__ == \"__main__\":\n",
        "  motion_detection()\n"
      ],
      "metadata": {
        "colab": {
          "base_uri": "https://localhost:8080/"
        },
        "id": "CHcDa-5gMaCp",
        "outputId": "71395e47-2e57-4e86-b1ce-7d857a10fae4"
      },
      "execution_count": null,
      "outputs": [
        {
          "output_type": "stream",
          "name": "stdout",
          "text": [
            "Cannot open camera\n",
            "Cannot read frame\n",
            "Cannot read frame\n"
          ]
        }
      ]
    },
    {
      "cell_type": "markdown",
      "source": [
        "# **Case-Sensitive**\n",
        "Variable names are case-sensitive."
      ],
      "metadata": {
        "id": "1GeyWhiLG6sg"
      }
    },
    {
      "cell_type": "code",
      "source": [
        "a = 5\n",
        "A = \"Sally\"\n",
        "print(4)\n",
        "print('sally')\n"
      ],
      "metadata": {
        "colab": {
          "base_uri": "https://localhost:8080/"
        },
        "id": "2uzBAoQFF5HZ",
        "outputId": "5496c001-f303-4a01-f0d1-7a0946fb4690"
      },
      "execution_count": null,
      "outputs": [
        {
          "output_type": "stream",
          "name": "stdout",
          "text": [
            "4\n",
            "sally\n"
          ]
        }
      ]
    },
    {
      "cell_type": "markdown",
      "source": [
        "# **Variable Names**\n",
        "**Rules for Python variables:**\n",
        "A variable name must start with a letter or the underscore character\n",
        "\n",
        "\n",
        "\n",
        "1.  A variable name must start with a letter or the underscore character\n",
        "\n",
        "1.   A variable name cannot start with a number\n",
        "\n",
        "1. A variable name can only contain alpha-numeric characters and underscores (A-z, 0-9, and _ )\n",
        "\n",
        "1.   Variable names are case-sensitive (age, Age and AGE are three different variables)\n",
        "2.   A variable name cannot be any of the Python keywords.\n"
      ],
      "metadata": {
        "id": "JYwkgwC_H3UA"
      }
    },
    {
      "cell_type": "code",
      "source": [
        "#Legal variable names:\n",
        "myvar = \"ali\"\n",
        "my_var = \"John\"\n",
        "_my_var = \"John\"\n",
        "myVar = \"John\"\n",
        "MYVAR = \"John\"\n",
        "myvar2 = \"John\""
      ],
      "metadata": {
        "id": "9pGcVA0vI40n"
      },
      "execution_count": null,
      "outputs": []
    },
    {
      "cell_type": "code",
      "source": [
        "#Illegal variable names:\n",
        "#2myvar = \"John\"\n",
        "#my-var = \"John\"\n",
        "#my var = \"John\""
      ],
      "metadata": {
        "id": "3jGRM5BrJJPa"
      },
      "execution_count": null,
      "outputs": []
    },
    {
      "cell_type": "markdown",
      "source": [
        "# **Many Values to Multiple Variables**\n",
        "Python allows you to assign values to multiple variables in one line:"
      ],
      "metadata": {
        "id": "cU2wP8zQNOzT"
      }
    },
    {
      "cell_type": "code",
      "source": [
        "x, y, z = \"Orange\", \"Banana\", \"Cherry\"\n",
        "print(x)\n",
        "print(y)\n",
        "print(z)"
      ],
      "metadata": {
        "colab": {
          "base_uri": "https://localhost:8080/"
        },
        "id": "oA-e1XlOJVL0",
        "outputId": "550613d4-c0b3-43dc-ce6d-06f60a21a5bd"
      },
      "execution_count": null,
      "outputs": [
        {
          "output_type": "stream",
          "name": "stdout",
          "text": [
            "Orange\n",
            "Banana\n",
            "Cherry\n"
          ]
        }
      ]
    },
    {
      "cell_type": "markdown",
      "source": [
        "# **One Value to Multiple Variables**\n",
        "And you can assign the same value to multiple variables in one line:"
      ],
      "metadata": {
        "id": "Mvk5kpR_NzIL"
      }
    },
    {
      "cell_type": "code",
      "source": [
        "x = y = z = \"Orange\"\n",
        "print(x)\n",
        "print(y)\n",
        "print(z)"
      ],
      "metadata": {
        "colab": {
          "base_uri": "https://localhost:8080/"
        },
        "id": "0qpEqIHnN5v4",
        "outputId": "6b14356a-5228-46f0-a747-e588cf6b2ae9"
      },
      "execution_count": null,
      "outputs": [
        {
          "output_type": "stream",
          "name": "stdout",
          "text": [
            "Orange\n",
            "Orange\n",
            "Orange\n"
          ]
        }
      ]
    },
    {
      "cell_type": "markdown",
      "source": [
        "# **Output Variables**\n",
        "The Python print() function is often used to output variables."
      ],
      "metadata": {
        "id": "AJSRkCJ8OKfq"
      }
    },
    {
      "cell_type": "code",
      "source": [
        "x = \"khan\"\n",
        "print(x)"
      ],
      "metadata": {
        "colab": {
          "base_uri": "https://localhost:8080/"
        },
        "id": "JHqZxAiIOOqZ",
        "outputId": "fa0eacf9-6d98-44a5-e05f-8b006e9a7a20"
      },
      "execution_count": null,
      "outputs": [
        {
          "output_type": "stream",
          "name": "stdout",
          "text": [
            "khan\n"
          ]
        }
      ]
    },
    {
      "cell_type": "markdown",
      "source": [
        "# **Global Variables**\n",
        "\n",
        "1.   Variables that are created outside of a function  are known as global\n",
        "2.    Global variables can be used by everyone, both inside of functions and outside"
      ],
      "metadata": {
        "id": "gKkLukwOOnHi"
      }
    },
    {
      "cell_type": "code",
      "source": [
        "#Example 1\n",
        "#Create a variable outside of a function, and use it inside the function\n",
        "x = \"fantastic\"\n",
        "\n",
        "def myfunc():\n",
        "  print(\"Python is \" + x)\n",
        "\n",
        "myfunc()"
      ],
      "metadata": {
        "colab": {
          "base_uri": "https://localhost:8080/"
        },
        "id": "wIPzYjDHPIXk",
        "outputId": "3fc50bae-30c2-41dd-8858-7a3acff0bc11"
      },
      "execution_count": null,
      "outputs": [
        {
          "output_type": "stream",
          "name": "stdout",
          "text": [
            "Python is fantastic\n"
          ]
        }
      ]
    },
    {
      "cell_type": "markdown",
      "source": [
        "![image.png](data:image/png;base64,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)"
      ],
      "metadata": {
        "id": "_TqLZ_SYQpc_"
      }
    },
    {
      "cell_type": "markdown",
      "source": [
        "![image.png](data:image/png;base64,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)"
      ],
      "metadata": {
        "id": "Fx63hNd2dW_6"
      }
    },
    {
      "cell_type": "code",
      "source": [
        "dict = {\n",
        "  \"country\": \"pakistan\",\n",
        "  \"model\": \"cnn\",\n",
        "  \"year\": 1964\n",
        "}\n",
        "print(dict[\"country\"])  #You can access the items of a dictionary by referring to its key name, inside square brackets:"
      ],
      "metadata": {
        "colab": {
          "base_uri": "https://localhost:8080/"
        },
        "id": "lb9PQwAORfEq",
        "outputId": "950be759-daf2-4371-d2b3-0ba38c5d28c6"
      },
      "execution_count": null,
      "outputs": [
        {
          "output_type": "stream",
          "name": "stdout",
          "text": [
            "pakistan\n"
          ]
        }
      ]
    },
    {
      "cell_type": "markdown",
      "source": [
        "# **Duplicates Not Allowed**\n",
        "Dictionaries cannot have two items with the same key:"
      ],
      "metadata": {
        "id": "0mfcGDq5fpra"
      }
    },
    {
      "cell_type": "code",
      "source": [
        "dict = {\n",
        "  \"brand\": \"honda\",\n",
        "  \"model\": \"civic\",\n",
        "  \"year\": 1964,  #Duplicate values will overwrite existing values:\n",
        "  \"year\": 2020\n",
        "}\n",
        "print(dict)"
      ],
      "metadata": {
        "colab": {
          "base_uri": "https://localhost:8080/"
        },
        "id": "jWkMQ4UwfstM",
        "outputId": "6c15609d-6843-41c3-b228-5b8d0ece002a"
      },
      "execution_count": null,
      "outputs": [
        {
          "output_type": "stream",
          "name": "stdout",
          "text": [
            "{'brand': 'honda', 'model': 'civic', 'year': 2020}\n"
          ]
        }
      ]
    },
    {
      "cell_type": "markdown",
      "source": [
        "# **Dictionary Length**"
      ],
      "metadata": {
        "id": "scalHkqggHxB"
      }
    },
    {
      "cell_type": "code",
      "source": [
        "dict = {\n",
        "  \"brand\": \"honda\",\n",
        "  \"model\": \"civic\",\n",
        "  \"year\": 1964,\n",
        "  \"year\": 2020\n",
        "}\n",
        "print(len(dict))"
      ],
      "metadata": {
        "colab": {
          "base_uri": "https://localhost:8080/"
        },
        "id": "G5mq1Hd2gHIY",
        "outputId": "24766198-545c-4727-fe05-c28cd203ff3d"
      },
      "execution_count": null,
      "outputs": [
        {
          "output_type": "stream",
          "name": "stdout",
          "text": [
            "3\n"
          ]
        }
      ]
    },
    {
      "cell_type": "markdown",
      "source": [],
      "metadata": {
        "id": "LpE5GmIhf4sA"
      }
    },
    {
      "cell_type": "markdown",
      "source": [
        "# **Change Values**\n",
        "You can change the value of a specific item by referring to its key name:"
      ],
      "metadata": {
        "id": "x5h9oMp7hOQl"
      }
    },
    {
      "cell_type": "markdown",
      "source": [
        "![image.png](data:image/png;base64,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)"
      ],
      "metadata": {
        "id": "xLKMAdW2f7nQ"
      }
    },
    {
      "cell_type": "code",
      "source": [
        "dict = {\n",
        "  \"brand\": \"Ford\",\n",
        "  \"model\": \"Mustang\",\n",
        "  \"year\": 1964\n",
        "}\n",
        "dict[\"year\"] = 2018  #Change the \"year\" to 2018:\n",
        "print(dict)\n"
      ],
      "metadata": {
        "colab": {
          "base_uri": "https://localhost:8080/"
        },
        "id": "ul_FjmpnhcCN",
        "outputId": "d53594aa-f6f3-4f04-c419-9f53959983d0"
      },
      "execution_count": null,
      "outputs": [
        {
          "output_type": "stream",
          "name": "stdout",
          "text": [
            "{'brand': 'Ford', 'model': 'Mustang', 'year': 2018}\n"
          ]
        }
      ]
    },
    {
      "cell_type": "markdown",
      "source": [
        "# **Update Dictionary**\n",
        "\n",
        "The update() method will update the dictionary with the items from the given argument.\n",
        "\n",
        "The argument must be a dictionary, or an iterable object with key:value pairs.\n"
      ],
      "metadata": {
        "id": "eX1qLpHUinI6"
      }
    },
    {
      "cell_type": "code",
      "source": [
        "#Update the \"year\" of the car by using the update() method:\n",
        "dict = {\n",
        "  \"brand\": \"Ford\",\n",
        "  \"model\": \"Mustang\",\n",
        "  \"year\": 1964\n",
        "}\n",
        "dict.update({\"year\": 2020})\n",
        "print(dict)"
      ],
      "metadata": {
        "colab": {
          "base_uri": "https://localhost:8080/"
        },
        "id": "7_6-s-SWjeBl",
        "outputId": "08d5af1a-73a8-4f19-e3ed-f334acead805"
      },
      "execution_count": null,
      "outputs": [
        {
          "output_type": "stream",
          "name": "stdout",
          "text": [
            "{'brand': 'Ford', 'model': 'Mustang', 'year': 2020}\n"
          ]
        }
      ]
    },
    {
      "cell_type": "markdown",
      "source": [
        "![image.png](data:image/png;base64,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)"
      ],
      "metadata": {
        "id": "AyRkXmw_lUkM"
      }
    },
    {
      "cell_type": "code",
      "source": [
        "#If statement:\n",
        "a = 33\n",
        "b = 200\n",
        "if b > a:\n",
        "  print(\"b is greater than a\")"
      ],
      "metadata": {
        "colab": {
          "base_uri": "https://localhost:8080/"
        },
        "id": "4t7nKIlkleps",
        "outputId": "719708d1-f201-4052-b301-ad5f393d6447"
      },
      "execution_count": null,
      "outputs": [
        {
          "output_type": "stream",
          "name": "stdout",
          "text": [
            "b is greater than a\n"
          ]
        }
      ]
    },
    {
      "cell_type": "code",
      "source": [
        "#Elif\n",
        "#The elif keyword is Python's way of saying \"if the previous conditions were not true, then try this condition\"\n",
        "#In this example a is greater than b, so the first condition is not true, also the elif condition is not true, so we go to the else condition and print to screen that \"a is greater than b\".\n",
        "a = 200\n",
        "b = 33\n",
        "if b > a:\n",
        "  print(\"b is greater than a\")\n",
        "elif a == b:\n",
        "  print(\"a and b are equal\")\n",
        "else:\n",
        "  print(\"a is greater than b\")"
      ],
      "metadata": {
        "colab": {
          "base_uri": "https://localhost:8080/"
        },
        "id": "j4WpMUz5mdQT",
        "outputId": "b10683c4-60a2-4d58-a44a-d7d6a4f2f513"
      },
      "execution_count": null,
      "outputs": [
        {
          "output_type": "stream",
          "name": "stdout",
          "text": [
            "a is greater than b\n"
          ]
        }
      ]
    },
    {
      "cell_type": "markdown",
      "source": [
        "You can also have an else without the elif:"
      ],
      "metadata": {
        "id": "VAsSRQg3nfw0"
      }
    },
    {
      "cell_type": "code",
      "source": [
        "a = 200\n",
        "b = 33\n",
        "if b > a:\n",
        "  print(\"b is greater than a\")\n",
        "else:\n",
        "  print(\"b is not greater than a\")"
      ],
      "metadata": {
        "colab": {
          "base_uri": "https://localhost:8080/"
        },
        "id": "Wd1b_DOdng-2",
        "outputId": "3143cadc-1776-442e-e68c-ce37d3370af8"
      },
      "execution_count": null,
      "outputs": [
        {
          "output_type": "stream",
          "name": "stdout",
          "text": [
            "b is not greater than a\n"
          ]
        }
      ]
    },
    {
      "cell_type": "markdown",
      "source": [
        "# **The while Loop**\n",
        "With the while loop we can execute a set of statements as long as a condition is true."
      ],
      "metadata": {
        "id": "nj4nfdUpocWY"
      }
    },
    {
      "cell_type": "code",
      "source": [
        "i = 1\n",
        "while i < 6:\n",
        "  print(i)\n",
        "  i += 1"
      ],
      "metadata": {
        "colab": {
          "base_uri": "https://localhost:8080/"
        },
        "id": "FxMABMhUoexi",
        "outputId": "63065f93-2536-4c86-93e5-268a87738ea9"
      },
      "execution_count": null,
      "outputs": [
        {
          "output_type": "stream",
          "name": "stdout",
          "text": [
            "1\n",
            "2\n",
            "3\n",
            "4\n",
            "5\n"
          ]
        }
      ]
    },
    {
      "cell_type": "markdown",
      "source": [
        "# **For Loops**\n",
        "A for loop is used for iterating over a sequence (that is either a list, a tuple, a dictionary, a set, or a string)."
      ],
      "metadata": {
        "id": "m7JhLKGmpWgK"
      }
    },
    {
      "cell_type": "code",
      "source": [
        "fruits = [\"apple\", \"banana\", \"cherry\"]\n",
        "for x in fruits:\n",
        "  print(x)"
      ],
      "metadata": {
        "colab": {
          "base_uri": "https://localhost:8080/"
        },
        "id": "wvi7kDwMpmF_",
        "outputId": "138acf93-efb0-4361-dcfd-a7a6527fb24d"
      },
      "execution_count": null,
      "outputs": [
        {
          "output_type": "stream",
          "name": "stdout",
          "text": [
            "apple\n",
            "banana\n",
            "cherry\n"
          ]
        }
      ]
    },
    {
      "cell_type": "markdown",
      "source": [
        "# **Creating a Function**\n",
        "In Python a function is defined using the def keyword:"
      ],
      "metadata": {
        "id": "77IWODtEp1TY"
      }
    },
    {
      "cell_type": "code",
      "source": [
        "def my_function():\n",
        "  print(\"Hello from a function\")\n",
        "\n",
        "my_function()  #To call a function, use the function name followed by parenthesis:"
      ],
      "metadata": {
        "colab": {
          "base_uri": "https://localhost:8080/"
        },
        "id": "jCMx9pz-p3uO",
        "outputId": "68143240-fbe9-4da5-ee3c-aa53e47e6cf5"
      },
      "execution_count": null,
      "outputs": [
        {
          "output_type": "stream",
          "name": "stdout",
          "text": [
            "Hello from a function\n"
          ]
        }
      ]
    },
    {
      "cell_type": "markdown",
      "source": [
        "# **Arguments**\n",
        "Information can be passed into functions as arguments."
      ],
      "metadata": {
        "id": "1cJ0_akpvRAJ"
      }
    },
    {
      "cell_type": "code",
      "source": [
        "def my_function(fname):\n",
        "  print(fname + \" Refsnes\")\n",
        "\n",
        "my_function(\"Emil\")\n",
        "my_function(\"Tobias\")\n",
        "my_function(\"Linus\")"
      ],
      "metadata": {
        "colab": {
          "base_uri": "https://localhost:8080/"
        },
        "id": "7qz5tKSSvTm0",
        "outputId": "9c635e58-1bd0-46cd-8172-46ea0af2c711"
      },
      "execution_count": null,
      "outputs": [
        {
          "output_type": "stream",
          "name": "stdout",
          "text": [
            "Emil Refsnes\n",
            "Tobias Refsnes\n",
            "Linus Refsnes\n"
          ]
        }
      ]
    },
    {
      "cell_type": "markdown",
      "source": [
        "# **Default Parameter Value**\n",
        "If we call the function without argument, it uses the default value:"
      ],
      "metadata": {
        "id": "0TkxLaZgvndT"
      }
    },
    {
      "cell_type": "code",
      "source": [
        "def my_function(country = \"Norway\"):\n",
        "  print(\"I am from \" + country)\n",
        "\n",
        "my_function(\"Sweden\")\n",
        "my_function(\"India\")\n",
        "my_function()\n",
        "my_function(\"Brazil\")"
      ],
      "metadata": {
        "colab": {
          "base_uri": "https://localhost:8080/"
        },
        "id": "0Jig8WdVvuDJ",
        "outputId": "90dba2e3-df7a-4964-8f35-8bde5662c65f"
      },
      "execution_count": null,
      "outputs": [
        {
          "output_type": "stream",
          "name": "stdout",
          "text": [
            "I am from Sweden\n",
            "I am from India\n",
            "I am from Norway\n",
            "I am from Brazil\n"
          ]
        }
      ]
    },
    {
      "cell_type": "markdown",
      "source": [
        "# **Return Values**\n",
        "To let a function return a value, use the return statement:"
      ],
      "metadata": {
        "id": "2Lf3xDcgwCCo"
      }
    },
    {
      "cell_type": "code",
      "source": [
        "def my_function(x):\n",
        "  return 5 * x\n",
        "\n",
        "print(my_function(3))\n",
        "print(my_function(5))\n",
        "print(my_function(9))"
      ],
      "metadata": {
        "colab": {
          "base_uri": "https://localhost:8080/"
        },
        "id": "McLXQj_LwHh3",
        "outputId": "84e2f775-b2bb-4219-889c-f227ff1ec56c"
      },
      "execution_count": null,
      "outputs": [
        {
          "output_type": "stream",
          "name": "stdout",
          "text": [
            "15\n",
            "25\n",
            "45\n"
          ]
        }
      ]
    }
  ]
}